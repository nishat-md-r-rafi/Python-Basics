{
 "cells": [
  {
   "cell_type": "markdown",
   "metadata": {},
   "source": [
    "# Q. list slicing"
   ]
  },
  {
   "cell_type": "code",
   "execution_count": null,
   "metadata": {},
   "outputs": [],
   "source": [
    "List = ['a', 'b', 'c', 'd', 'e']\n",
    "print(list[10:])"
   ]
  },
  {
   "cell_type": "markdown",
   "metadata": {},
   "source": [
    "# Q. How do I call a method defined in a base class from a derived class that overrides it?\n",
    "\n",
    "* If you're using new-style classes, use the built-in super() function:"
   ]
  },
  {
   "cell_type": "code",
   "execution_count": 2,
   "metadata": {},
   "outputs": [],
   "source": [
    "class Base:\n",
    "    pass\n",
    "\n",
    "class Derived(Base):\n",
    "    def meth (self): \n",
    "       super(Derived, self).meth() "
   ]
  },
  {
   "cell_type": "markdown",
   "metadata": {},
   "source": [
    "# Q. How do I find the current module name?\n",
    "\n",
    "* A module can find out its own module name by looking at the predefined global variable __name__\n",
    "* If this has the value '__main__', the program is running as a script."
   ]
  },
  {
   "cell_type": "code",
   "execution_count": 4,
   "metadata": {},
   "outputs": [
    {
     "name": "stdout",
     "output_type": "stream",
     "text": [
      "Running test...\n"
     ]
    }
   ],
   "source": [
    "def main():\n",
    "    print('Running test...')\n",
    "    \n",
    "if __name__ == '__main__':\n",
    "    main()"
   ]
  },
  {
   "cell_type": "markdown",
   "metadata": {},
   "source": [
    "# Q. What is used to create Unicode string in Python?\n",
    "\n",
    "* A Unicode string is a sequence of code points, which are numbers from 0 through 0x10FFFF (1,114,111 decimal).\n",
    "* his sequence of code points needs to be represented in memory as a set of code units, and code units are then mapped to 8-bit bytes.\n",
    "* \"u\" should be added before the string"
   ]
  },
  {
   "cell_type": "code",
   "execution_count": 8,
   "metadata": {},
   "outputs": [
    {
     "data": {
      "text/plain": [
       "str"
      ]
     },
     "execution_count": 8,
     "metadata": {},
     "output_type": "execute_result"
    }
   ],
   "source": [
    "a = (u'Python')\n",
    "type(a) #will give you unicode\n"
   ]
  },
  {
   "cell_type": "markdown",
   "metadata": {},
   "source": [
    "# Q. Write a regular expression that will accept an email id. Use the re module."
   ]
  },
  {
   "cell_type": "code",
   "execution_count": 10,
   "metadata": {},
   "outputs": [
    {
     "data": {
      "text/plain": [
       "'JaiRameshwar@gmail.com'"
      ]
     },
     "execution_count": 10,
     "metadata": {},
     "output_type": "execute_result"
    }
   ],
   "source": [
    "import re   \n",
    "e = re.search(r'[0-9a-zA-Z.]+@[a-zA-Z]+\\.(com|co\\.in)$', 'JaiRameshwar@gmail.com')\n",
    "e.group()"
   ]
  },
  {
   "cell_type": "markdown",
   "metadata": {},
   "source": [
    "# Q. What is __slots__ and when is it useful?\n",
    "\n",
    "* By default Python uses a dict to store an object's instance attributes.\n",
    "* The dict wastes a lot of RAM. \n",
    "* The usage of __slots__ to tell Python not to use a dict, and only allocate space for a fixed set of attributes."
   ]
  },
  {
   "cell_type": "code",
   "execution_count": 12,
   "metadata": {},
   "outputs": [
    {
     "name": "stdout",
     "output_type": "stream",
     "text": [
      "Instance without using slot:- {'a': 1, 'b': 2}\n",
      "Instance without using slot:- ['a', 'b']\n"
     ]
    }
   ],
   "source": [
    "class MyClass(object):\n",
    "      def __init__(self, *args, **kwargs):\n",
    "                self.a = 1\n",
    "                self.b = 2\n",
    "  \n",
    "if __name__ == \"__main__\":\n",
    "     instance = MyClass()\n",
    "     print('Instance without using slot:-',instance.__dict__)\n",
    "\n",
    "class MyClass(object):\n",
    "      __slots__=['a', 'b']\n",
    "      def __init__(self, *args, **kwargs):\n",
    "                self.a = 1\n",
    "                self.b = 2\n",
    "  \n",
    "if __name__ == \"__main__\":\n",
    "     instance = MyClass()\n",
    "     print('Instance without using slot:-',instance.__slots__)"
   ]
  },
  {
   "cell_type": "markdown",
   "metadata": {},
   "source": [
    "# Q. What Are The Types of Objects Support in Python Language?\n",
    "\n",
    "* Python supports are two types are of objects. They are:\n",
    "* Immutable built-in types:\n",
    "\n",
    "        Strings\n",
    "        Tuples\n",
    "        Numbers\n",
    "\n",
    "* Mutable built-in types:\n",
    "\n",
    "        List\n",
    "        Sets\n",
    "        Dictionaries"
   ]
  },
  {
   "cell_type": "markdown",
   "metadata": {},
   "source": [
    "# Reference\n",
    "\n",
    "* A reference is a name that refers to the specific location in memory of a value (object)\n",
    "*  References take the form of variables, attributes, and items.\n",
    "* The references values are according to the functions; as a result you cannot change the value of the references.\n",
    "* To pass its parameters to a function, Python uses pass-by-reference."
   ]
  },
  {
   "cell_type": "markdown",
   "metadata": {},
   "source": [
    "# Q. What are *args, **kwargs ?\n",
    "\n",
    "* In cases when we don't know how many arguments will be passed to a function, like when we want to pass a list or a tuple of values, we use *args\n",
    "* **kwargs takes keyword arguments when we don't know how many there will be:"
   ]
  },
  {
   "cell_type": "code",
   "execution_count": 15,
   "metadata": {},
   "outputs": [
    {
     "name": "stdout",
     "output_type": "stream",
     "text": [
      "*args is:  (1, 2, 3, 5, 5) <class 'tuple'>\n",
      "1\n",
      "2\n",
      "3\n",
      "5\n",
      "5\n"
     ]
    }
   ],
   "source": [
    "def func(*args):\n",
    "    print('*args is: ',args, type(args))\n",
    "    for i in args:\n",
    "        print(i)\n",
    "\n",
    "func(1,2,3,5,5)"
   ]
  },
  {
   "cell_type": "code",
   "execution_count": 16,
   "metadata": {},
   "outputs": [
    {
     "name": "stdout",
     "output_type": "stream",
     "text": [
      "a 1\n",
      "b 2\n",
      "c 7\n"
     ]
    }
   ],
   "source": [
    "def func(**kwargs):\n",
    "    for i in kwargs:\n",
    "        print(i,kwargs[i])\n",
    "\n",
    "func(a=1,b=2,c=7)"
   ]
  },
  {
   "cell_type": "markdown",
   "metadata": {},
   "source": [
    "# Q.Python – Get the list of all keywords programmatically"
   ]
  },
  {
   "cell_type": "code",
   "execution_count": 26,
   "metadata": {},
   "outputs": [
    {
     "name": "stdout",
     "output_type": "stream",
     "text": [
      "['False', 'None', 'True', '__peg_parser__', 'and', 'as', 'assert', 'async', 'await'] \n",
      " ['break', 'class', 'continue', 'def', 'del', 'elif', 'else', 'except', 'finally'] \n",
      " ['for', 'from', 'global', 'if', 'import', 'in', 'is', 'lambda', 'nonlocal'] \n",
      " ['not', 'or', 'pass', 'raise', 'return', 'try', 'while', 'with', 'yield']\n"
     ]
    }
   ],
   "source": [
    "import keyword\n",
    "s = keyword.kwlist\n",
    "len(s)\n",
    "print(s[:9],'\\n',s[9:18],'\\n', s[18:27],'\\n', s[27:])"
   ]
  },
  {
   "cell_type": "code",
   "execution_count": null,
   "metadata": {},
   "outputs": [],
   "source": []
  }
 ],
 "metadata": {
  "interpreter": {
   "hash": "c840f6c7048d47154ae564f8b2dd6286cd2d0276b7f993f4a4989ea8e4061e6d"
  },
  "kernelspec": {
   "display_name": "Python 3.9.5 64-bit",
   "language": "python",
   "name": "python3"
  },
  "language_info": {
   "codemirror_mode": {
    "name": "ipython",
    "version": 3
   },
   "file_extension": ".py",
   "mimetype": "text/x-python",
   "name": "python",
   "nbconvert_exporter": "python",
   "pygments_lexer": "ipython3",
   "version": "3.9.5"
  },
  "orig_nbformat": 4
 },
 "nbformat": 4,
 "nbformat_minor": 2
}
